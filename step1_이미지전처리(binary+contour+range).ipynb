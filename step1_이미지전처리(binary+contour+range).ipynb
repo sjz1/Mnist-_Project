{
 "cells": [
  {
   "cell_type": "markdown",
   "id": "f40653cb",
   "metadata": {},
   "source": [
    "# 이미지 불러오기"
   ]
  },
  {
   "cell_type": "code",
   "execution_count": 1,
   "id": "f5f1b959",
   "metadata": {},
   "outputs": [],
   "source": [
    "#############숫자 두르는 테두리 만들기 ###############\n",
    "\n",
    "import cv2\n",
    "import sys\n",
    "import math\n",
    "import cv2 as cv\n",
    "import numpy as np\n",
    "from time import sleep\n",
    "%matplotlib inline\n",
    "import matplotlib as mpl\n",
    "import matplotlib.pyplot as plt\n"
   ]
  },
  {
   "cell_type": "code",
   "execution_count": 4,
   "id": "a5e5152f",
   "metadata": {},
   "outputs": [
    {
     "data": {
      "text/plain": [
       "<matplotlib.image.AxesImage at 0x13cc1b539d0>"
      ]
     },
     "execution_count": 4,
     "metadata": {},
     "output_type": "execute_result"
    },
    {
     "data": {
      "image/png": "[encoded data removed]",
      "text/plain": [
       "<Figure size 432x288 with 1 Axes>"
      ]
     },
     "metadata": {
      "needs_background": "light"
     },
     "output_type": "display_data"
    }
   ],
   "source": [
    "#색깔의 범주 설정(추후에 사용할까 해서 적은 두 줄) ->현재코드에는 영향을 주지 x\n",
    "black1 = np.array([0, 0, 0])  # 검정색 최솟값\n",
    "black2 = np.array([20, 20, 20])  # 검정색 최댓값\n",
    "\n",
    "name =\"C:/Users/tmdwh/Desktop/4.jpg\" #이미지 파일 하나 로딩\n",
    "\n",
    "img = cv2.imread(name , cv2.IMREAD_COLOR) #이미지와 코드가 한 파일에 있어야 함(혹은 위에 경로로 초기화 해주기)\n",
    "#처리에 사용할 이미지\n",
    "plt.imshow(img, cmap=mpl.cm.binary)"
   ]
  },
  {
   "cell_type": "markdown",
   "id": "41ffe632",
   "metadata": {},
   "source": [
    "# 작업이미지 모폴로지"
   ]
  },
  {
   "cell_type": "code",
   "execution_count": 24,
   "id": "9f13a885",
   "metadata": {},
   "outputs": [
    {
     "data": {
      "text/plain": [
       "<matplotlib.image.AxesImage at 0x13cc1dbe880>"
      ]
     },
     "execution_count": 24,
     "metadata": {},
     "output_type": "execute_result"
    },
    {
     "data": {
      "image/png": "[encoded data removed]",
      "text/plain": [
       "<Figure size 432x288 with 1 Axes>"
      ]
     },
     "metadata": {
      "needs_background": "light"
     },
     "output_type": "display_data"
    }
   ],
   "source": [
    "# 모폴로지(dilate->팽창연산 적용: 글자 잡음 제거 , erode -> 침식연산 적용 :글자 주변 잡음 제거)\n",
    "k = cv2.getStructuringElement(cv2.MORPH_RECT, (2,2)) #구조화 요소 커널, 사각형 (2x2) 생성\n",
    "ero_img = cv2.erode(img, k)\n",
    "\n",
    "plt.imshow(ero_img, cmap=mpl.cm.binary)"
   ]
  },
  {
   "cell_type": "code",
   "execution_count": 25,
   "id": "2644559a",
   "metadata": {},
   "outputs": [
    {
     "data": {
      "text/plain": [
       "<matplotlib.image.AxesImage at 0x13cc217a1c0>"
      ]
     },
     "execution_count": 25,
     "metadata": {},
     "output_type": "execute_result"
    },
    {
     "data": {
      "image/png": "[encoded data removed]",
      "text/plain": [
       "<Figure size 432x288 with 1 Axes>"
      ]
     },
     "metadata": {
      "needs_background": "light"
     },
     "output_type": "display_data"
    }
   ],
   "source": [
    "# 모폴로지(dilate->팽창연산 적용: 글자 잡음 제거 , erode -> 침식연산 적용 :글자 주변 잡음 제거)\n",
    "k = cv2.getStructuringElement(cv2.MORPH_RECT, (2,2)) #구조화 요소 커널, 사각형 (2x2) 생성\n",
    "dil_img = cv2.dilate(img, k)\n",
    "\n",
    "plt.imshow(dil_img, cmap=mpl.cm.binary)"
   ]
  },
  {
   "cell_type": "markdown",
   "id": "be712f44",
   "metadata": {},
   "source": [
    "# 이진화 작업"
   ]
  },
  {
   "cell_type": "code",
   "execution_count": 26,
   "id": "4b336255",
   "metadata": {},
   "outputs": [],
   "source": [
    "imgray = cv2.cvtColor(ero_img, cv2.COLOR_BGR2GRAY) #이거 안하면 이진화 불가\n",
    "\n",
    "ret, img_binary = cv2.threshold(imgray, 127, 255, cv2.THRESH_BINARY | cv2.THRESH_OTSU)  # 이진화\n",
    "#cv2.threshold(src, thresh, maxval, type) → retval, dst\n",
    "#src => input image(gray scale image), thresh=>임계값 (이하면 흰색 아니면 검정색)-> 이 경우 255/2\n",
    "#maxval ->임계값이상 나왔을때 적용할 값 -> 255 (검정)\n",
    "\n",
    "ret, img_final_binary = cv2.threshold(imgray, 127, 255, cv2.THRESH_BINARY | cv2.THRESH_OTSU)  # 원본 이진화"
   ]
  },
  {
   "cell_type": "code",
   "execution_count": 6,
   "id": "c2bc788c",
   "metadata": {},
   "outputs": [
    {
     "data": {
      "text/plain": [
       "<matplotlib.image.AxesImage at 0x13cc1c2efd0>"
      ]
     },
     "execution_count": 6,
     "metadata": {},
     "output_type": "execute_result"
    },
    {
     "data": {
      "image/png": "[encoded data removed]",
      "text/plain": [
       "<Figure size 432x288 with 1 Axes>"
      ]
     },
     "metadata": {
      "needs_background": "light"
     },
     "output_type": "display_data"
    }
   ],
   "source": [
    "plt.imshow(img_final_binary, cmap=mpl.cm.binary)"
   ]
  },
  {
   "cell_type": "markdown",
   "id": "a234a85d",
   "metadata": {},
   "source": [
    "# 작업이미지 반전 처리"
   ]
  },
  {
   "cell_type": "code",
   "execution_count": 7,
   "id": "07301c72",
   "metadata": {},
   "outputs": [
    {
     "data": {
      "text/plain": [
       "<matplotlib.image.AxesImage at 0x13cc1c9b0a0>"
      ]
     },
     "execution_count": 7,
     "metadata": {},
     "output_type": "execute_result"
    },
    {
     "data": {
      "image/png": "[encoded data removed]",
      "text/plain": [
       "<Figure size 432x288 with 1 Axes>"
      ]
     },
     "metadata": {
      "needs_background": "light"
     },
     "output_type": "display_data"
    }
   ],
   "source": [
    "vers_img = 255 - img_binary #(이미지를 반전 처리 해줌) -> 컨투어(사각형 그리기)는 흰색을 기준으로 그리기 때문\n",
    "\n",
    "plt.imshow(vers_img, cmap=mpl.cm.binary)"
   ]
  },
  {
   "cell_type": "markdown",
   "id": "21c31850",
   "metadata": {},
   "source": [
    "# 컨투어 작업 진행"
   ]
  },
  {
   "cell_type": "code",
   "execution_count": 8,
   "id": "4fcb894f",
   "metadata": {},
   "outputs": [
    {
     "name": "stdout",
     "output_type": "stream",
     "text": [
      " x = 9, w = 16\n",
      " y = 11, h = 14\n",
      " 가로 중간값 = 17.000000\n",
      " 세로 중간값 = 18.000000\n"
     ]
    }
   ],
   "source": [
    "contours, hierarchy = cv2.findContours(vers_img, cv2.RETR_CCOMP, cv2.CHAIN_APPROX_SIMPLE)  # 컨투어\n",
    "#반전된 이미지로 컨투어를 진행\n",
    "\n",
    "if len(contours) == 0:\n",
    "    print(\"컨투어 0\") #컨투어를 하지 못한 -> 이미지 파일 손상 등등의 문제\n",
    "\n",
    "else:\n",
    "    contr = contours[0]\n",
    "    x, y, w, h = cv2.boundingRect(contr)  # 최소한의 사각형 그려주는 함수\n",
    "    cv2.rectangle(img_binary, (x, y), (x + w, y + h), (0, 255, 0), 3) #(x,y)->왼쪽 하단 꼭지점, (x+w,y+h)-> 오른쪽 상단 꼭지점   \n",
    "    # w: 사각형의 width, h: 사각형의 high  x: 왼쪽 아래 꼭지점의 x좌표  y: 오른쪽 위 꼭지점의 y좌표 \n",
    "    # 사각형을 img_binary에 그려 주었다 -> 사각형 추후 처리해야 한다 아니면 숫자가 바뀜\n",
    "    print(\" 가로 중간값 = %f\" % (x_mid))\n",
    "    print(\" 세로 중간값 = %f\" % (y_mid))\n",
    "    print(\" x = %d, w = %d\" % (x, w))\n",
    "    print(\" y = %d, h = %d\" % (y, h))\n",
    "    x_mid = x + w/2\n",
    "    y_mid = y + h/2\n",
    "\n",
    "    \n",
    "\n",
    "cv.imshow(\"Original_image\", img)  # 원본파일\n",
    "cv.imshow(\"Thresh_binary\", img_binary)  #수정파일"
   ]
  },
  {
   "cell_type": "code",
   "execution_count": 9,
   "id": "fd7a2ded",
   "metadata": {},
   "outputs": [
    {
     "data": {
      "text/plain": [
       "<matplotlib.image.AxesImage at 0x13cc1cf2730>"
      ]
     },
     "execution_count": 9,
     "metadata": {},
     "output_type": "execute_result"
    },
    {
     "data": {
      "image/png": "[encoded data removed]",
      "text/plain": [
       "<Figure size 432x288 with 1 Axes>"
      ]
     },
     "metadata": {
      "needs_background": "light"
     },
     "output_type": "display_data"
    }
   ],
   "source": [
    "#확인 작업\n",
    "plt.imshow(img_binary, cmap=mpl.cm.binary)"
   ]
  },
  {
   "cell_type": "code",
   "execution_count": 29,
   "id": "47fcb053",
   "metadata": {},
   "outputs": [
    {
     "data": {
      "text/plain": [
       "<matplotlib.image.AxesImage at 0x13cc3479070>"
      ]
     },
     "execution_count": 29,
     "metadata": {},
     "output_type": "execute_result"
    },
    {
     "data": {
      "image/png": "[encoded data removed]",
      "text/plain": [
       "<Figure size 432x288 with 1 Axes>"
      ]
     },
     "metadata": {
      "needs_background": "light"
     },
     "output_type": "display_data"
    }
   ],
   "source": [
    "plt.imshow(255-img_binary, cmap=mpl.cm.binary)"
   ]
  },
  {
   "cell_type": "code",
   "execution_count": 10,
   "id": "ac209ed6",
   "metadata": {},
   "outputs": [
    {
     "data": {
      "text/plain": [
       "784"
      ]
     },
     "execution_count": 10,
     "metadata": {},
     "output_type": "execute_result"
    }
   ],
   "source": [
    "img_binary.size"
   ]
  },
  {
   "cell_type": "markdown",
   "id": "a7021c2c",
   "metadata": {},
   "source": [
    "# 도화지 만들기 -> 결과로 사용 "
   ]
  },
  {
   "cell_type": "code",
   "execution_count": 1,
   "id": "8c2bc099",
   "metadata": {},
   "outputs": [],
   "source": [
    "final_img = [[255 for col in range(28)] for row in range(28)]"
   ]
  },
  {
   "cell_type": "code",
   "execution_count": 2,
   "id": "ebe57f2b",
   "metadata": {},
   "outputs": [
    {
     "data": {
      "text/plain": [
       "[[255,\n",
       "  255,\n",
       "  255,\n",
       "  255,\n",
       "  255,\n",
       "  255,\n",
       "  255,\n",
       "  255,\n",
       "  255,\n",
       "  255,\n",
       "  255,\n",
       "  255,\n",
       "  255,\n",
       "  255,\n",
       "  255,\n",
       "  255,\n",
       "  255,\n",
       "  255,\n",
       "  255,\n",
       "  255,\n",
       "  255,\n",
       "  255,\n",
       "  255,\n",
       "  255,\n",
       "  255,\n",
       "  255,\n",
       "  255,\n",
       "  255],\n",
       " [255,\n",
       "  255,\n",
       "  255,\n",
       "  255,\n",
       "  255,\n",
       "  255,\n",
       "  255,\n",
       "  255,\n",
       "  255,\n",
       "  255,\n",
       "  255,\n",
       "  255,\n",
       "  255,\n",
       "  255,\n",
       "  255,\n",
       "  255,\n",
       "  255,\n",
       "  255,\n",
       "  255,\n",
       "  255,\n",
       "  255,\n",
       "  255,\n",
       "  255,\n",
       "  255,\n",
       "  255,\n",
       "  255,\n",
       "  255,\n",
       "  255],\n",
       " [255,\n",
       "  255,\n",
       "  255,\n",
       "  255,\n",
       "  255,\n",
       "  255,\n",
       "  255,\n",
       "  255,\n",
       "  255,\n",
       "  255,\n",
       "  255,\n",
       "  255,\n",
       "  255,\n",
       "  255,\n",
       "  255,\n",
       "  255,\n",
       "  255,\n",
       "  255,\n",
       "  255,\n",
       "  255,\n",
       "  255,\n",
       "  255,\n",
       "  255,\n",
       "  255,\n",
       "  255,\n",
       "  255,\n",
       "  255,\n",
       "  255],\n",
       " [255,\n",
       "  255,\n",
       "  255,\n",
       "  255,\n",
       "  255,\n",
       "  255,\n",
       "  255,\n",
       "  255,\n",
       "  255,\n",
       "  255,\n",
       "  255,\n",
       "  255,\n",
       "  255,\n",
       "  255,\n",
       "  255,\n",
       "  255,\n",
       "  255,\n",
       "  255,\n",
       "  255,\n",
       "  255,\n",
       "  255,\n",
       "  255,\n",
       "  255,\n",
       "  255,\n",
       "  255,\n",
       "  255,\n",
       "  255,\n",
       "  255],\n",
       " [255,\n",
       "  255,\n",
       "  255,\n",
       "  255,\n",
       "  255,\n",
       "  255,\n",
       "  255,\n",
       "  255,\n",
       "  255,\n",
       "  255,\n",
       "  255,\n",
       "  255,\n",
       "  255,\n",
       "  255,\n",
       "  255,\n",
       "  255,\n",
       "  255,\n",
       "  255,\n",
       "  255,\n",
       "  255,\n",
       "  255,\n",
       "  255,\n",
       "  255,\n",
       "  255,\n",
       "  255,\n",
       "  255,\n",
       "  255,\n",
       "  255],\n",
       " [255,\n",
       "  255,\n",
       "  255,\n",
       "  255,\n",
       "  255,\n",
       "  255,\n",
       "  255,\n",
       "  255,\n",
       "  255,\n",
       "  255,\n",
       "  255,\n",
       "  255,\n",
       "  255,\n",
       "  255,\n",
       "  255,\n",
       "  255,\n",
       "  255,\n",
       "  255,\n",
       "  255,\n",
       "  255,\n",
       "  255,\n",
       "  255,\n",
       "  255,\n",
       "  255,\n",
       "  255,\n",
       "  255,\n",
       "  255,\n",
       "  255],\n",
       " [255,\n",
       "  255,\n",
       "  255,\n",
       "  255,\n",
       "  255,\n",
       "  255,\n",
       "  255,\n",
       "  255,\n",
       "  255,\n",
       "  255,\n",
       "  255,\n",
       "  255,\n",
       "  255,\n",
       "  255,\n",
       "  255,\n",
       "  255,\n",
       "  255,\n",
       "  255,\n",
       "  255,\n",
       "  255,\n",
       "  255,\n",
       "  255,\n",
       "  255,\n",
       "  255,\n",
       "  255,\n",
       "  255,\n",
       "  255,\n",
       "  255],\n",
       " [255,\n",
       "  255,\n",
       "  255,\n",
       "  255,\n",
       "  255,\n",
       "  255,\n",
       "  255,\n",
       "  255,\n",
       "  255,\n",
       "  255,\n",
       "  255,\n",
       "  255,\n",
       "  255,\n",
       "  255,\n",
       "  255,\n",
       "  255,\n",
       "  255,\n",
       "  255,\n",
       "  255,\n",
       "  255,\n",
       "  255,\n",
       "  255,\n",
       "  255,\n",
       "  255,\n",
       "  255,\n",
       "  255,\n",
       "  255,\n",
       "  255],\n",
       " [255,\n",
       "  255,\n",
       "  255,\n",
       "  255,\n",
       "  255,\n",
       "  255,\n",
       "  255,\n",
       "  255,\n",
       "  255,\n",
       "  255,\n",
       "  255,\n",
       "  255,\n",
       "  255,\n",
       "  255,\n",
       "  255,\n",
       "  255,\n",
       "  255,\n",
       "  255,\n",
       "  255,\n",
       "  255,\n",
       "  255,\n",
       "  255,\n",
       "  255,\n",
       "  255,\n",
       "  255,\n",
       "  255,\n",
       "  255,\n",
       "  255],\n",
       " [255,\n",
       "  255,\n",
       "  255,\n",
       "  255,\n",
       "  255,\n",
       "  255,\n",
       "  255,\n",
       "  255,\n",
       "  255,\n",
       "  255,\n",
       "  255,\n",
       "  255,\n",
       "  255,\n",
       "  255,\n",
       "  255,\n",
       "  255,\n",
       "  255,\n",
       "  255,\n",
       "  255,\n",
       "  255,\n",
       "  255,\n",
       "  255,\n",
       "  255,\n",
       "  255,\n",
       "  255,\n",
       "  255,\n",
       "  255,\n",
       "  255],\n",
       " [255,\n",
       "  255,\n",
       "  255,\n",
       "  255,\n",
       "  255,\n",
       "  255,\n",
       "  255,\n",
       "  255,\n",
       "  255,\n",
       "  255,\n",
       "  255,\n",
       "  255,\n",
       "  255,\n",
       "  255,\n",
       "  255,\n",
       "  255,\n",
       "  255,\n",
       "  255,\n",
       "  255,\n",
       "  255,\n",
       "  255,\n",
       "  255,\n",
       "  255,\n",
       "  255,\n",
       "  255,\n",
       "  255,\n",
       "  255,\n",
       "  255],\n",
       " [255,\n",
       "  255,\n",
       "  255,\n",
       "  255,\n",
       "  255,\n",
       "  255,\n",
       "  255,\n",
       "  255,\n",
       "  255,\n",
       "  255,\n",
       "  255,\n",
       "  255,\n",
       "  255,\n",
       "  255,\n",
       "  255,\n",
       "  255,\n",
       "  255,\n",
       "  255,\n",
       "  255,\n",
       "  255,\n",
       "  255,\n",
       "  255,\n",
       "  255,\n",
       "  255,\n",
       "  255,\n",
       "  255,\n",
       "  255,\n",
       "  255],\n",
       " [255,\n",
       "  255,\n",
       "  255,\n",
       "  255,\n",
       "  255,\n",
       "  255,\n",
       "  255,\n",
       "  255,\n",
       "  255,\n",
       "  255,\n",
       "  255,\n",
       "  255,\n",
       "  255,\n",
       "  255,\n",
       "  255,\n",
       "  255,\n",
       "  255,\n",
       "  255,\n",
       "  255,\n",
       "  255,\n",
       "  255,\n",
       "  255,\n",
       "  255,\n",
       "  255,\n",
       "  255,\n",
       "  255,\n",
       "  255,\n",
       "  255],\n",
       " [255,\n",
       "  255,\n",
       "  255,\n",
       "  255,\n",
       "  255,\n",
       "  255,\n",
       "  255,\n",
       "  255,\n",
       "  255,\n",
       "  255,\n",
       "  255,\n",
       "  255,\n",
       "  255,\n",
       "  255,\n",
       "  255,\n",
       "  255,\n",
       "  255,\n",
       "  255,\n",
       "  255,\n",
       "  255,\n",
       "  255,\n",
       "  255,\n",
       "  255,\n",
       "  255,\n",
       "  255,\n",
       "  255,\n",
       "  255,\n",
       "  255],\n",
       " [255,\n",
       "  255,\n",
       "  255,\n",
       "  255,\n",
       "  255,\n",
       "  255,\n",
       "  255,\n",
       "  255,\n",
       "  255,\n",
       "  255,\n",
       "  255,\n",
       "  255,\n",
       "  255,\n",
       "  255,\n",
       "  255,\n",
       "  255,\n",
       "  255,\n",
       "  255,\n",
       "  255,\n",
       "  255,\n",
       "  255,\n",
       "  255,\n",
       "  255,\n",
       "  255,\n",
       "  255,\n",
       "  255,\n",
       "  255,\n",
       "  255],\n",
       " [255,\n",
       "  255,\n",
       "  255,\n",
       "  255,\n",
       "  255,\n",
       "  255,\n",
       "  255,\n",
       "  255,\n",
       "  255,\n",
       "  255,\n",
       "  255,\n",
       "  255,\n",
       "  255,\n",
       "  255,\n",
       "  255,\n",
       "  255,\n",
       "  255,\n",
       "  255,\n",
       "  255,\n",
       "  255,\n",
       "  255,\n",
       "  255,\n",
       "  255,\n",
       "  255,\n",
       "  255,\n",
       "  255,\n",
       "  255,\n",
       "  255],\n",
       " [255,\n",
       "  255,\n",
       "  255,\n",
       "  255,\n",
       "  255,\n",
       "  255,\n",
       "  255,\n",
       "  255,\n",
       "  255,\n",
       "  255,\n",
       "  255,\n",
       "  255,\n",
       "  255,\n",
       "  255,\n",
       "  255,\n",
       "  255,\n",
       "  255,\n",
       "  255,\n",
       "  255,\n",
       "  255,\n",
       "  255,\n",
       "  255,\n",
       "  255,\n",
       "  255,\n",
       "  255,\n",
       "  255,\n",
       "  255,\n",
       "  255],\n",
       " [255,\n",
       "  255,\n",
       "  255,\n",
       "  255,\n",
       "  255,\n",
       "  255,\n",
       "  255,\n",
       "  255,\n",
       "  255,\n",
       "  255,\n",
       "  255,\n",
       "  255,\n",
       "  255,\n",
       "  255,\n",
       "  255,\n",
       "  255,\n",
       "  255,\n",
       "  255,\n",
       "  255,\n",
       "  255,\n",
       "  255,\n",
       "  255,\n",
       "  255,\n",
       "  255,\n",
       "  255,\n",
       "  255,\n",
       "  255,\n",
       "  255],\n",
       " [255,\n",
       "  255,\n",
       "  255,\n",
       "  255,\n",
       "  255,\n",
       "  255,\n",
       "  255,\n",
       "  255,\n",
       "  255,\n",
       "  255,\n",
       "  255,\n",
       "  255,\n",
       "  255,\n",
       "  255,\n",
       "  255,\n",
       "  255,\n",
       "  255,\n",
       "  255,\n",
       "  255,\n",
       "  255,\n",
       "  255,\n",
       "  255,\n",
       "  255,\n",
       "  255,\n",
       "  255,\n",
       "  255,\n",
       "  255,\n",
       "  255],\n",
       " [255,\n",
       "  255,\n",
       "  255,\n",
       "  255,\n",
       "  255,\n",
       "  255,\n",
       "  255,\n",
       "  255,\n",
       "  255,\n",
       "  255,\n",
       "  255,\n",
       "  255,\n",
       "  255,\n",
       "  255,\n",
       "  255,\n",
       "  255,\n",
       "  255,\n",
       "  255,\n",
       "  255,\n",
       "  255,\n",
       "  255,\n",
       "  255,\n",
       "  255,\n",
       "  255,\n",
       "  255,\n",
       "  255,\n",
       "  255,\n",
       "  255],\n",
       " [255,\n",
       "  255,\n",
       "  255,\n",
       "  255,\n",
       "  255,\n",
       "  255,\n",
       "  255,\n",
       "  255,\n",
       "  255,\n",
       "  255,\n",
       "  255,\n",
       "  255,\n",
       "  255,\n",
       "  255,\n",
       "  255,\n",
       "  255,\n",
       "  255,\n",
       "  255,\n",
       "  255,\n",
       "  255,\n",
       "  255,\n",
       "  255,\n",
       "  255,\n",
       "  255,\n",
       "  255,\n",
       "  255,\n",
       "  255,\n",
       "  255],\n",
       " [255,\n",
       "  255,\n",
       "  255,\n",
       "  255,\n",
       "  255,\n",
       "  255,\n",
       "  255,\n",
       "  255,\n",
       "  255,\n",
       "  255,\n",
       "  255,\n",
       "  255,\n",
       "  255,\n",
       "  255,\n",
       "  255,\n",
       "  255,\n",
       "  255,\n",
       "  255,\n",
       "  255,\n",
       "  255,\n",
       "  255,\n",
       "  255,\n",
       "  255,\n",
       "  255,\n",
       "  255,\n",
       "  255,\n",
       "  255,\n",
       "  255],\n",
       " [255,\n",
       "  255,\n",
       "  255,\n",
       "  255,\n",
       "  255,\n",
       "  255,\n",
       "  255,\n",
       "  255,\n",
       "  255,\n",
       "  255,\n",
       "  255,\n",
       "  255,\n",
       "  255,\n",
       "  255,\n",
       "  255,\n",
       "  255,\n",
       "  255,\n",
       "  255,\n",
       "  255,\n",
       "  255,\n",
       "  255,\n",
       "  255,\n",
       "  255,\n",
       "  255,\n",
       "  255,\n",
       "  255,\n",
       "  255,\n",
       "  255],\n",
       " [255,\n",
       "  255,\n",
       "  255,\n",
       "  255,\n",
       "  255,\n",
       "  255,\n",
       "  255,\n",
       "  255,\n",
       "  255,\n",
       "  255,\n",
       "  255,\n",
       "  255,\n",
       "  255,\n",
       "  255,\n",
       "  255,\n",
       "  255,\n",
       "  255,\n",
       "  255,\n",
       "  255,\n",
       "  255,\n",
       "  255,\n",
       "  255,\n",
       "  255,\n",
       "  255,\n",
       "  255,\n",
       "  255,\n",
       "  255,\n",
       "  255],\n",
       " [255,\n",
       "  255,\n",
       "  255,\n",
       "  255,\n",
       "  255,\n",
       "  255,\n",
       "  255,\n",
       "  255,\n",
       "  255,\n",
       "  255,\n",
       "  255,\n",
       "  255,\n",
       "  255,\n",
       "  255,\n",
       "  255,\n",
       "  255,\n",
       "  255,\n",
       "  255,\n",
       "  255,\n",
       "  255,\n",
       "  255,\n",
       "  255,\n",
       "  255,\n",
       "  255,\n",
       "  255,\n",
       "  255,\n",
       "  255,\n",
       "  255],\n",
       " [255,\n",
       "  255,\n",
       "  255,\n",
       "  255,\n",
       "  255,\n",
       "  255,\n",
       "  255,\n",
       "  255,\n",
       "  255,\n",
       "  255,\n",
       "  255,\n",
       "  255,\n",
       "  255,\n",
       "  255,\n",
       "  255,\n",
       "  255,\n",
       "  255,\n",
       "  255,\n",
       "  255,\n",
       "  255,\n",
       "  255,\n",
       "  255,\n",
       "  255,\n",
       "  255,\n",
       "  255,\n",
       "  255,\n",
       "  255,\n",
       "  255],\n",
       " [255,\n",
       "  255,\n",
       "  255,\n",
       "  255,\n",
       "  255,\n",
       "  255,\n",
       "  255,\n",
       "  255,\n",
       "  255,\n",
       "  255,\n",
       "  255,\n",
       "  255,\n",
       "  255,\n",
       "  255,\n",
       "  255,\n",
       "  255,\n",
       "  255,\n",
       "  255,\n",
       "  255,\n",
       "  255,\n",
       "  255,\n",
       "  255,\n",
       "  255,\n",
       "  255,\n",
       "  255,\n",
       "  255,\n",
       "  255,\n",
       "  255],\n",
       " [255,\n",
       "  255,\n",
       "  255,\n",
       "  255,\n",
       "  255,\n",
       "  255,\n",
       "  255,\n",
       "  255,\n",
       "  255,\n",
       "  255,\n",
       "  255,\n",
       "  255,\n",
       "  255,\n",
       "  255,\n",
       "  255,\n",
       "  255,\n",
       "  255,\n",
       "  255,\n",
       "  255,\n",
       "  255,\n",
       "  255,\n",
       "  255,\n",
       "  255,\n",
       "  255,\n",
       "  255,\n",
       "  255,\n",
       "  255,\n",
       "  255]]"
      ]
     },
     "execution_count": 2,
     "metadata": {},
     "output_type": "execute_result"
    }
   ],
   "source": [
    "final_img #도화지"
   ]
  },
  {
   "cell_type": "markdown",
   "id": "13d550d8",
   "metadata": {},
   "source": [
    "# 작업할 도화지2개 만들기"
   ]
  },
  {
   "cell_type": "code",
   "execution_count": 13,
   "id": "f837cd1b",
   "metadata": {},
   "outputs": [],
   "source": [
    "cpy_img,cpy_img2 = [[0 for col in range(28)] for row in range(28)], [[0 for col in range(28)] for row in range(28)]\n",
    "for i in range (28):\n",
    "    for j in range (28):\n",
    "        cpy_img[i][j],cpy_img2[i][j] = 255,255"
   ]
  },
  {
   "cell_type": "markdown",
   "id": "fd28c7ca",
   "metadata": {},
   "source": [
    "# 가운데 정렬 시키기(좌우)"
   ]
  },
  {
   "cell_type": "code",
   "execution_count": 14,
   "id": "8ccf6d55",
   "metadata": {},
   "outputs": [
    {
     "name": "stdout",
     "output_type": "stream",
     "text": [
      "3\n"
     ]
    }
   ],
   "source": [
    "import math\n",
    "x_er = math.floor(x_mid -14)\n",
    "y_er = math.floor(y_mid -14)\n",
    "print(x_er)\n",
    "if x_mid !=  14 : # 숫자가 좌우 쏠림\n",
    "    for i in range (27):\n",
    "        for j in range (27):\n",
    "            if img_final_binary[i][j] == 0: #데이터가 있으면 \n",
    "                cpy_img2[i][j-round(x_er)] = 0               "
   ]
  },
  {
   "cell_type": "code",
   "execution_count": 15,
   "id": "287bed2e",
   "metadata": {},
   "outputs": [
    {
     "data": {
      "text/plain": [
       "<matplotlib.image.AxesImage at 0x13cc1fedf40>"
      ]
     },
     "execution_count": 15,
     "metadata": {},
     "output_type": "execute_result"
    },
    {
     "data": {
      "image/png": "[encoded data removed]",
      "text/plain": [
       "<Figure size 432x288 with 1 Axes>"
      ]
     },
     "metadata": {
      "needs_background": "light"
     },
     "output_type": "display_data"
    }
   ],
   "source": [
    "plt.imshow(cpy_img2, cmap=mpl.cm.binary)"
   ]
  },
  {
   "cell_type": "markdown",
   "id": "4d7dfc3b",
   "metadata": {},
   "source": [
    "# 가운데 정렬시키기(상하) -> 완성본 이므로 final_img에 그리기"
   ]
  },
  {
   "cell_type": "code",
   "execution_count": 16,
   "id": "9a8bab58",
   "metadata": {},
   "outputs": [],
   "source": [
    "if y_mid !=  14 : # 숫자가 좌우 쏠림\n",
    "    for i in range (28):\n",
    "        for j in range (28):\n",
    "            if cpy_img2[j][i] == 0: #데이터가 있으면 \n",
    "                final_img[j-round(y_er)][i] = 0   \n",
    "else: #이미 상하정렬되어 있으면 \n",
    "    for i in range (28):\n",
    "         for j in range (28):\n",
    "            final_img[i][j] = cpy_img2[i][j] #deep copy"
   ]
  },
  {
   "cell_type": "code",
   "execution_count": 17,
   "id": "4a764d56",
   "metadata": {},
   "outputs": [
    {
     "data": {
      "text/plain": [
       "<matplotlib.image.AxesImage at 0x13cc204b640>"
      ]
     },
     "execution_count": 17,
     "metadata": {},
     "output_type": "execute_result"
    },
    {
     "data": {
      "image/png": "[encoded data removed]",
      "text/plain": [
       "<Figure size 432x288 with 1 Axes>"
      ]
     },
     "metadata": {
      "needs_background": "light"
     },
     "output_type": "display_data"
    }
   ],
   "source": [
    "plt.imshow(final_img, cmap=mpl.cm.binary)"
   ]
  },
  {
   "cell_type": "code",
   "execution_count": 18,
   "id": "19abdb61",
   "metadata": {},
   "outputs": [
    {
     "data": {
      "text/plain": [
       "0"
      ]
     },
     "execution_count": 18,
     "metadata": {},
     "output_type": "execute_result"
    }
   ],
   "source": [
    "final_img[10][15]"
   ]
  },
  {
   "cell_type": "code",
   "execution_count": null,
   "id": "925d739c",
   "metadata": {},
   "outputs": [],
   "source": [
    "for t in range(10):\n",
    "#해당 Label파일에 cutting된 사진 저장 \n",
    "    os.chdir(f\"./{t}\")\n",
    "    print(os.listdir())\n",
    "    files=os.listdir()        \n",
    "    for idx, file in enumerate(files):\n",
    "#한픽셀 반전해서 담기\n",
    "    cnt=0\n",
    "    bit=[]\n",
    "    for i in range(28):\n",
    "        for j in range(28):    \n",
    "            a= 255-final_img[i][j]\n",
    "            #비트담기\n",
    "            if a==0:\n",
    "                cnt+=1\n",
    "            bit.append(a)\n",
    "        #이미지가 모두 침식됬다면 원본으로 대체\n",
    "        if cnt>780:\n",
    "            bit=[]\n",
    "            for i in range(28):\n",
    "                for j in range(28):\n",
    "                    a= 255-img[i][j][0]\n",
    "                    #비트담기\n",
    "                    bit.append(a)               \n",
    "        new_X.append(bit)\n",
    "        new_y.append(t)\n",
    "\n",
    "    #모두 잘라낸뒤 resize파일로 돌아가기\n",
    "    os.chdir(\"../\")\n",
    "\n",
    "\n",
    "#mnist형태인 np.array로 변환\n",
    "new_X=np.array(new_X)\n",
    "new_y=np.array(new_y)\n",
    "#시작파일로 맞추기위해 상위파일로가기(필요 시)\n",
    "os.chdir(\"../\")\n",
    "os.chdir(\"../\")\n",
    "#현재 디렉토리 위치 출력\n",
    "print(os.getcwd() )"
   ]
  }
 ],
 "metadata": {
  "kernelspec": {
   "display_name": "Python 3",
   "language": "python",
   "name": "python3"
  },
  "language_info": {
   "codemirror_mode": {
    "name": "ipython",
    "version": 3
   },
   "file_extension": ".py",
   "mimetype": "text/x-python",
   "name": "python",
   "nbconvert_exporter": "python",
   "pygments_lexer": "ipython3",
   "version": "3.8.8"
  }
 },
 "nbformat": 4,
 "nbformat_minor": 5
}

